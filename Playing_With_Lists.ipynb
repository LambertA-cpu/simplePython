{
 "cells": [
  {
   "cell_type": "code",
   "execution_count": 20,
   "id": "d3ee5b47",
   "metadata": {},
   "outputs": [
    {
     "name": "stdout",
     "output_type": "stream",
     "text": [
      "9\n",
      "['STMB', 'MSB', 'STC', 'Oval', 'SBS', 'Library', 'Phase_One', 'Auditorium']\n",
      "[]\n"
     ]
    }
   ],
   "source": [
    "biuldings = [\"STMB\",\"MSB\",\"STC\",\"Oval\",\"SBS\",\"Library\",\"Phase_One\",\"Research_Centre\"]\n",
    "biuldings.remove(\"Research_Centre\")\n",
    "biuldings.insert(7,\"Auditorium\")\n",
    "biuldings.append(\"Research_Centre\")\n",
    "print(len(biuldings))\n",
    "biuldings.pop(8)\n",
    "print(biuldings)\n",
    "biuldings.clear()\n",
    "print(biuldings)"
   ]
  },
  {
   "cell_type": "code",
   "execution_count": 31,
   "id": "b12f7b47",
   "metadata": {},
   "outputs": [
    {
     "name": "stdout",
     "output_type": "stream",
     "text": [
      "(6, 5, 4, 3, 2, 1)\n",
      "6\n"
     ]
    },
    {
     "data": {
      "text/plain": [
       "6"
      ]
     },
     "execution_count": 31,
     "metadata": {},
     "output_type": "execute_result"
    }
   ],
   "source": [
    "L = (6,5,4,3,2,1)\n",
    "print(L)\n",
    "#You can't add elements to a tuple because of their immutable property.\n",
    "print(len(L))\n",
    "L[0]"
   ]
  },
  {
   "cell_type": "code",
   "execution_count": 28,
   "id": "eb6cc8bf",
   "metadata": {},
   "outputs": [
    {
     "data": {
      "text/plain": [
       "(6, 5, 4, 3, 2, 1)"
      ]
     },
     "execution_count": 28,
     "metadata": {},
     "output_type": "execute_result"
    }
   ],
   "source": [
    "L[0:6]"
   ]
  },
  {
   "cell_type": "code",
   "execution_count": null,
   "id": "857e1e39",
   "metadata": {},
   "outputs": [],
   "source": [
    "theDictType = {\n",
    "    \"name\" : \"Strathmore\"\n",
    "    \"phone\" : \"0703034000\"\n",
    "}"
   ]
  }
 ],
 "metadata": {
  "kernelspec": {
   "display_name": "Python 3 (ipykernel)",
   "language": "python",
   "name": "python3"
  },
  "language_info": {
   "codemirror_mode": {
    "name": "ipython",
    "version": 3
   },
   "file_extension": ".py",
   "mimetype": "text/x-python",
   "name": "python",
   "nbconvert_exporter": "python",
   "pygments_lexer": "ipython3",
   "version": "3.9.7"
  }
 },
 "nbformat": 4,
 "nbformat_minor": 5
}
