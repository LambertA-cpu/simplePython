{
 "cells": [
  {
   "cell_type": "code",
   "execution_count": 10,
   "id": "b8c02cac",
   "metadata": {},
   "outputs": [
    {
     "name": "stdout",
     "output_type": "stream",
     "text": [
      "the number is even\n"
     ]
    }
   ],
   "source": [
    "def num(n):\n",
    "    if int(n)%2 == 0:\n",
    "        print(\"the number is even\")\n",
    "    else:\n",
    "        print(\"the number is odd\")\n",
    "num(4)\n",
    "    "
   ]
  },
  {
   "cell_type": "code",
   "execution_count": 15,
   "id": "0940f95e",
   "metadata": {},
   "outputs": [
    {
     "name": "stdout",
     "output_type": "stream",
     "text": [
      "Ksh 868000\n"
     ]
    }
   ],
   "source": [
    "def  hotel_cost(numberOfNights):\n",
    "    print (\"Ksh\",int(numberOfNights)*6200)\n",
    "hotel_cost(140)"
   ]
  },
  {
   "cell_type": "code",
   "execution_count": 16,
   "id": "e3a15c0b",
   "metadata": {},
   "outputs": [
    {
     "name": "stdout",
     "output_type": "stream",
     "text": [
      "12\n",
      "2\n",
      "35\n"
     ]
    }
   ],
   "source": [
    "def calc(x,y):\n",
    "    print(x+y)\n",
    "    print(x-y)\n",
    "    print(x*y)\n",
    "calc(7,5)"
   ]
  },
  {
   "cell_type": "code",
   "execution_count": null,
   "id": "80a47e80",
   "metadata": {},
   "outputs": [],
   "source": []
  }
 ],
 "metadata": {
  "kernelspec": {
   "display_name": "Python 3 (ipykernel)",
   "language": "python",
   "name": "python3"
  },
  "language_info": {
   "codemirror_mode": {
    "name": "ipython",
    "version": 3
   },
   "file_extension": ".py",
   "mimetype": "text/x-python",
   "name": "python",
   "nbconvert_exporter": "python",
   "pygments_lexer": "ipython3",
   "version": "3.9.7"
  }
 },
 "nbformat": 4,
 "nbformat_minor": 5
}
