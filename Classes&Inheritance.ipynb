{
 "cells": [
  {
   "cell_type": "code",
   "execution_count": 22,
   "id": "8430c6b3",
   "metadata": {},
   "outputs": [
    {
     "name": "stdout",
     "output_type": "stream",
     "text": [
      "120 40\n"
     ]
    }
   ],
   "source": [
    "class Vehicle:\n",
    "    def __init__(self, max_speed, mileage):\n",
    "        self.max_speed = max_speed\n",
    "        self.mileage = mileage\n",
    "    def printSpeed(self):\n",
    "        print(self.max_speed, self.mileage)\n",
    "class Bus(Vehicle):\n",
    "    pass\n",
    "\n",
    "x = Bus(120, 40)\n",
    "x.printSpeed() \n",
    "    "
   ]
  },
  {
   "cell_type": "code",
   "execution_count": 28,
   "id": "e69ac392",
   "metadata": {},
   "outputs": [
    {
     "name": "stdout",
     "output_type": "stream",
     "text": [
      "The name is  John  and I am  36  old\n",
      " course:  BBIT\n"
     ]
    }
   ],
   "source": [
    "class Person:\n",
    "    def __init__(human, name, age):\n",
    "        human.age = age\n",
    "        human.name = name\n",
    "    def display(human):\n",
    "        print(\"The name is \", human.name,\" and I am \", human.age,\" old\")\n",
    "    \n",
    "p1 = Person(\"John\", 36)\n",
    "p1.display()\n",
    "\n",
    "class Student(Person):\n",
    "    def __init__(school, course):\n",
    "        school.course = course\n",
    "    def displayStudent(school):\n",
    "        print(\" course: \", school.course )\n",
    "S1 = Student(\"BBIT\")\n",
    "S1.displayStudent()"
   ]
  },
  {
   "cell_type": "code",
   "execution_count": null,
   "id": "501a9849",
   "metadata": {},
   "outputs": [],
   "source": []
  }
 ],
 "metadata": {
  "kernelspec": {
   "display_name": "Python 3 (ipykernel)",
   "language": "python",
   "name": "python3"
  },
  "language_info": {
   "codemirror_mode": {
    "name": "ipython",
    "version": 3
   },
   "file_extension": ".py",
   "mimetype": "text/x-python",
   "name": "python",
   "nbconvert_exporter": "python",
   "pygments_lexer": "ipython3",
   "version": "3.9.7"
  }
 },
 "nbformat": 4,
 "nbformat_minor": 5
}
